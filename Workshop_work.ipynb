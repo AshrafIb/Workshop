{
 "cells": [
  {
   "cell_type": "code",
   "execution_count": 76,
   "metadata": {
    "ExecuteTime": {
     "end_time": "2020-12-04T14:49:15.691563Z",
     "start_time": "2020-12-04T14:49:15.678614Z"
    }
   },
   "outputs": [],
   "source": [
    "import click \n",
    "import pandas as pd\n",
    "from unittest import TestCase\n",
    "from termcolor import colored"
   ]
  },
  {
   "cell_type": "code",
   "execution_count": 247,
   "metadata": {
    "ExecuteTime": {
     "end_time": "2020-12-04T15:43:02.100779Z",
     "start_time": "2020-12-04T15:43:02.095792Z"
    }
   },
   "outputs": [],
   "source": [
    "def check_load(x):\n",
    "    assert len(x)==10000, colored('Da hat wohl was nicht geklappt','red')\n",
    "    if len(x)==10000:\n",
    "        print(colored('Das hat geklappt!',color='green'))\n",
    "    else:\n",
    "        pass\n",
    "def check_col(x):\n",
    "    assert x==13,colored('Das war wohl nicht richtig','red')\n",
    "    if x==13:\n",
    "        print(colored(f'{x} ist die richtige Anzahl an Spalten!',color='green'))\n",
    "def check_drp_col(x):\n",
    "    y=x.shape[1]\n",
    "    assert y==12, colored('Hast du vielleicht den \"inplace\"-Parameter vergessen',color='red')\n",
    "    if y==12:\n",
    "        print(colored('Du hast alles bedacht!',color='green'))"
   ]
  },
  {
   "cell_type": "code",
   "execution_count": 248,
   "metadata": {
    "ExecuteTime": {
     "end_time": "2020-12-04T15:43:05.248064Z",
     "start_time": "2020-12-04T15:43:05.224443Z"
    }
   },
   "outputs": [
    {
     "name": "stdout",
     "output_type": "stream",
     "text": [
      "\u001b[32mDas hat geklappt!\u001b[0m\n"
     ]
    }
   ],
   "source": [
    "# Dein Code hier \n",
    "df=pd.read_csv('test.csv',sep=';')\n",
    "\n",
    "# Nicht verändern\n",
    "check_load(df)"
   ]
  },
  {
   "cell_type": "code",
   "execution_count": 245,
   "metadata": {
    "ExecuteTime": {
     "end_time": "2020-12-04T15:41:50.494136Z",
     "start_time": "2020-12-04T15:41:50.490148Z"
    }
   },
   "outputs": [
    {
     "name": "stdout",
     "output_type": "stream",
     "text": [
      "\u001b[32m13 ist die richtige Anzahl an Spalten!\u001b[0m\n"
     ]
    }
   ],
   "source": [
    "# Inspeziere die Anzahl der Spalten und die der Zeilen  \n",
    "# Dein Code hier \n",
    "x=df.shape[1] \n",
    "\n",
    "# Nicht verändern \n",
    "check_col(x)"
   ]
  },
  {
   "cell_type": "markdown",
   "metadata": {},
   "source": [
    "Lasst euch die ersten 10 Spalten anzeigen, [kleiner Tipp](https://pandas.pydata.org/pandas-docs/stable/reference/api/pandas.DataFrame.head.html). "
   ]
  },
  {
   "cell_type": "code",
   "execution_count": 174,
   "metadata": {
    "ExecuteTime": {
     "end_time": "2020-12-04T15:19:52.078367Z",
     "start_time": "2020-12-04T15:19:52.062368Z"
    }
   },
   "outputs": [
    {
     "data": {
      "text/html": [
       "<div>\n",
       "<style scoped>\n",
       "    .dataframe tbody tr th:only-of-type {\n",
       "        vertical-align: middle;\n",
       "    }\n",
       "\n",
       "    .dataframe tbody tr th {\n",
       "        vertical-align: top;\n",
       "    }\n",
       "\n",
       "    .dataframe thead th {\n",
       "        text-align: right;\n",
       "    }\n",
       "</style>\n",
       "<table border=\"1\" class=\"dataframe\">\n",
       "  <thead>\n",
       "    <tr style=\"text-align: right;\">\n",
       "      <th></th>\n",
       "      <th>Unnamed: 0</th>\n",
       "      <th>Kundennummer</th>\n",
       "      <th>Stadt</th>\n",
       "      <th>Kundenname</th>\n",
       "      <th>Im_Bestand_seit</th>\n",
       "      <th>Kundengruppe</th>\n",
       "      <th>Kündigung</th>\n",
       "      <th>Anzahl_Mieteinheiten</th>\n",
       "      <th>Jahr</th>\n",
       "      <th>Vertrag</th>\n",
       "      <th>Vertragsperiode</th>\n",
       "      <th>Kundentyp</th>\n",
       "      <th>Konkurrenz</th>\n",
       "    </tr>\n",
       "  </thead>\n",
       "  <tbody>\n",
       "    <tr>\n",
       "      <th>0</th>\n",
       "      <td>0</td>\n",
       "      <td>4260</td>\n",
       "      <td>Sondershausen</td>\n",
       "      <td>Leokadia Roskoth</td>\n",
       "      <td>1994-02-18</td>\n",
       "      <td>Kleinkunde</td>\n",
       "      <td>0</td>\n",
       "      <td>18</td>\n",
       "      <td>1994</td>\n",
       "      <td>26</td>\n",
       "      <td>2</td>\n",
       "      <td>Bestandskunden</td>\n",
       "      <td>mittlerer Konkurrenz</td>\n",
       "    </tr>\n",
       "    <tr>\n",
       "      <th>1</th>\n",
       "      <td>1</td>\n",
       "      <td>9169</td>\n",
       "      <td>Pfaffenhofenner Ilm</td>\n",
       "      <td>Ing. Henning Gehringer</td>\n",
       "      <td>1992-03-21</td>\n",
       "      <td>Großkunde</td>\n",
       "      <td>0</td>\n",
       "      <td>258</td>\n",
       "      <td>1992</td>\n",
       "      <td>28</td>\n",
       "      <td>2</td>\n",
       "      <td>Bestandskunden</td>\n",
       "      <td>Keine Konkurrenz</td>\n",
       "    </tr>\n",
       "    <tr>\n",
       "      <th>2</th>\n",
       "      <td>2</td>\n",
       "      <td>5643</td>\n",
       "      <td>Wertingen</td>\n",
       "      <td>Tilly Nerger</td>\n",
       "      <td>1996-03-03</td>\n",
       "      <td>mittlerer Kunde</td>\n",
       "      <td>1</td>\n",
       "      <td>104</td>\n",
       "      <td>1996</td>\n",
       "      <td>24</td>\n",
       "      <td>2</td>\n",
       "      <td>Bestandskunden</td>\n",
       "      <td>Keine Konkurrenz</td>\n",
       "    </tr>\n",
       "    <tr>\n",
       "      <th>3</th>\n",
       "      <td>3</td>\n",
       "      <td>4720</td>\n",
       "      <td>Mühlhausen</td>\n",
       "      <td>Sylvio Rogner</td>\n",
       "      <td>1981-08-12</td>\n",
       "      <td>Kleinkunde</td>\n",
       "      <td>0</td>\n",
       "      <td>47</td>\n",
       "      <td>1981</td>\n",
       "      <td>39</td>\n",
       "      <td>3</td>\n",
       "      <td>Bestandskunden</td>\n",
       "      <td>Keine Konkurrenz</td>\n",
       "    </tr>\n",
       "    <tr>\n",
       "      <th>4</th>\n",
       "      <td>4</td>\n",
       "      <td>5205</td>\n",
       "      <td>Demmin</td>\n",
       "      <td>Gunda Boucsein</td>\n",
       "      <td>1995-04-21</td>\n",
       "      <td>mittlerer Kunde</td>\n",
       "      <td>0</td>\n",
       "      <td>162</td>\n",
       "      <td>1995</td>\n",
       "      <td>25</td>\n",
       "      <td>2</td>\n",
       "      <td>Bestandskunden</td>\n",
       "      <td>Keine Konkurrenz</td>\n",
       "    </tr>\n",
       "    <tr>\n",
       "      <th>5</th>\n",
       "      <td>5</td>\n",
       "      <td>2526</td>\n",
       "      <td>Kamenz</td>\n",
       "      <td>Dipl.-Ing. Anne Söding</td>\n",
       "      <td>1985-03-20</td>\n",
       "      <td>mittlerer Kunde</td>\n",
       "      <td>0</td>\n",
       "      <td>117</td>\n",
       "      <td>1985</td>\n",
       "      <td>35</td>\n",
       "      <td>3</td>\n",
       "      <td>Bestandskunden</td>\n",
       "      <td>Keine Konkurrenz</td>\n",
       "    </tr>\n",
       "    <tr>\n",
       "      <th>6</th>\n",
       "      <td>6</td>\n",
       "      <td>1716</td>\n",
       "      <td>Osterodem Harz</td>\n",
       "      <td>Prof. Hanny van der Dussen</td>\n",
       "      <td>1980-06-12</td>\n",
       "      <td>Kleinkunde</td>\n",
       "      <td>0</td>\n",
       "      <td>34</td>\n",
       "      <td>1980</td>\n",
       "      <td>40</td>\n",
       "      <td>4</td>\n",
       "      <td>Altkunden</td>\n",
       "      <td>Keine Konkurrenz</td>\n",
       "    </tr>\n",
       "    <tr>\n",
       "      <th>7</th>\n",
       "      <td>7</td>\n",
       "      <td>1972</td>\n",
       "      <td>Kassel</td>\n",
       "      <td>Klaus Siering-Wernecke</td>\n",
       "      <td>1998-02-04</td>\n",
       "      <td>Großkunde</td>\n",
       "      <td>0</td>\n",
       "      <td>764</td>\n",
       "      <td>1998</td>\n",
       "      <td>22</td>\n",
       "      <td>2</td>\n",
       "      <td>Bestandskunden</td>\n",
       "      <td>mittlerer Konkurrenz</td>\n",
       "    </tr>\n",
       "    <tr>\n",
       "      <th>8</th>\n",
       "      <td>8</td>\n",
       "      <td>4119</td>\n",
       "      <td>Oschatz</td>\n",
       "      <td>Zlatko Gerlach</td>\n",
       "      <td>1970-11-18</td>\n",
       "      <td>Kleinkunde</td>\n",
       "      <td>0</td>\n",
       "      <td>31</td>\n",
       "      <td>1970</td>\n",
       "      <td>50</td>\n",
       "      <td>4</td>\n",
       "      <td>Altkunden</td>\n",
       "      <td>Keine Konkurrenz</td>\n",
       "    </tr>\n",
       "    <tr>\n",
       "      <th>9</th>\n",
       "      <td>9</td>\n",
       "      <td>4649</td>\n",
       "      <td>Oberviechtach</td>\n",
       "      <td>Vitus Dussen van-Bloch</td>\n",
       "      <td>2010-04-23</td>\n",
       "      <td>Großkunde</td>\n",
       "      <td>0</td>\n",
       "      <td>748</td>\n",
       "      <td>2010</td>\n",
       "      <td>10</td>\n",
       "      <td>0</td>\n",
       "      <td>Neukunde</td>\n",
       "      <td>Keine Konkurrenz</td>\n",
       "    </tr>\n",
       "  </tbody>\n",
       "</table>\n",
       "</div>"
      ],
      "text/plain": [
       "   Unnamed: 0  Kundennummer                Stadt                  Kundenname  \\\n",
       "0           0          4260        Sondershausen            Leokadia Roskoth   \n",
       "1           1          9169  Pfaffenhofenner Ilm      Ing. Henning Gehringer   \n",
       "2           2          5643            Wertingen                Tilly Nerger   \n",
       "3           3          4720           Mühlhausen               Sylvio Rogner   \n",
       "4           4          5205               Demmin              Gunda Boucsein   \n",
       "5           5          2526               Kamenz      Dipl.-Ing. Anne Söding   \n",
       "6           6          1716       Osterodem Harz  Prof. Hanny van der Dussen   \n",
       "7           7          1972               Kassel      Klaus Siering-Wernecke   \n",
       "8           8          4119              Oschatz              Zlatko Gerlach   \n",
       "9           9          4649        Oberviechtach      Vitus Dussen van-Bloch   \n",
       "\n",
       "  Im_Bestand_seit     Kundengruppe  Kündigung  Anzahl_Mieteinheiten  Jahr  \\\n",
       "0      1994-02-18       Kleinkunde          0                    18  1994   \n",
       "1      1992-03-21        Großkunde          0                   258  1992   \n",
       "2      1996-03-03  mittlerer Kunde          1                   104  1996   \n",
       "3      1981-08-12       Kleinkunde          0                    47  1981   \n",
       "4      1995-04-21  mittlerer Kunde          0                   162  1995   \n",
       "5      1985-03-20  mittlerer Kunde          0                   117  1985   \n",
       "6      1980-06-12       Kleinkunde          0                    34  1980   \n",
       "7      1998-02-04        Großkunde          0                   764  1998   \n",
       "8      1970-11-18       Kleinkunde          0                    31  1970   \n",
       "9      2010-04-23        Großkunde          0                   748  2010   \n",
       "\n",
       "   Vertrag  Vertragsperiode       Kundentyp            Konkurrenz  \n",
       "0       26                2  Bestandskunden  mittlerer Konkurrenz  \n",
       "1       28                2  Bestandskunden      Keine Konkurrenz  \n",
       "2       24                2  Bestandskunden      Keine Konkurrenz  \n",
       "3       39                3  Bestandskunden      Keine Konkurrenz  \n",
       "4       25                2  Bestandskunden      Keine Konkurrenz  \n",
       "5       35                3  Bestandskunden      Keine Konkurrenz  \n",
       "6       40                4       Altkunden      Keine Konkurrenz  \n",
       "7       22                2  Bestandskunden  mittlerer Konkurrenz  \n",
       "8       50                4       Altkunden      Keine Konkurrenz  \n",
       "9       10                0        Neukunde      Keine Konkurrenz  "
      ]
     },
     "execution_count": 174,
     "metadata": {},
     "output_type": "execute_result"
    }
   ],
   "source": [
    "df.head(10)"
   ]
  },
  {
   "cell_type": "markdown",
   "metadata": {},
   "source": [
    "Da scheint ein doppelter Index zu sein ($Unnamed: 0$), den brauchen wir definitv nicht. \n",
    "Hier kann ich euch nur folgendes empfehlen: [droppen](https://pandas.pydata.org/pandas-docs/stable/reference/api/pandas.DataFrame.drop.html). "
   ]
  },
  {
   "cell_type": "code",
   "execution_count": 250,
   "metadata": {
    "ExecuteTime": {
     "end_time": "2020-12-04T15:43:24.287475Z",
     "start_time": "2020-12-04T15:43:24.282457Z"
    }
   },
   "outputs": [
    {
     "name": "stdout",
     "output_type": "stream",
     "text": [
      "\u001b[32mDu hast alles bedacht\u001b[0m\n"
     ]
    }
   ],
   "source": [
    "# Vervollständigt den Code, sodass die unnötige Spalte verschwident\n",
    "df.drop(['Unnamed: 0'],axis=1,inplace=True)\n",
    "check_drp_col(df)"
   ]
  },
  {
   "cell_type": "code",
   "execution_count": 188,
   "metadata": {
    "ExecuteTime": {
     "end_time": "2020-12-04T15:26:18.133952Z",
     "start_time": "2020-12-04T15:26:18.127460Z"
    }
   },
   "outputs": [
    {
     "data": {
      "text/plain": [
       "'Eichstätt'"
      ]
     },
     "execution_count": 188,
     "metadata": {},
     "output_type": "execute_result"
    }
   ],
   "source": [
    "# \n",
    "df['Stadt'].value_counts().idxmax()"
   ]
  }
 ],
 "metadata": {
  "kernelspec": {
   "display_name": "Python 3",
   "language": "python",
   "name": "python3"
  },
  "language_info": {
   "codemirror_mode": {
    "name": "ipython",
    "version": 3
   },
   "file_extension": ".py",
   "mimetype": "text/x-python",
   "name": "python",
   "nbconvert_exporter": "python",
   "pygments_lexer": "ipython3",
   "version": "3.7.7"
  },
  "toc": {
   "base_numbering": 1,
   "nav_menu": {},
   "number_sections": true,
   "sideBar": true,
   "skip_h1_title": false,
   "title_cell": "Table of Contents",
   "title_sidebar": "Contents",
   "toc_cell": false,
   "toc_position": {},
   "toc_section_display": true,
   "toc_window_display": true
  },
  "varInspector": {
   "cols": {
    "lenName": 16,
    "lenType": 16,
    "lenVar": 40
   },
   "kernels_config": {
    "python": {
     "delete_cmd_postfix": "",
     "delete_cmd_prefix": "del ",
     "library": "var_list.py",
     "varRefreshCmd": "print(var_dic_list())"
    },
    "r": {
     "delete_cmd_postfix": ") ",
     "delete_cmd_prefix": "rm(",
     "library": "var_list.r",
     "varRefreshCmd": "cat(var_dic_list()) "
    }
   },
   "types_to_exclude": [
    "module",
    "function",
    "builtin_function_or_method",
    "instance",
    "_Feature"
   ],
   "window_display": false
  }
 },
 "nbformat": 4,
 "nbformat_minor": 4
}
